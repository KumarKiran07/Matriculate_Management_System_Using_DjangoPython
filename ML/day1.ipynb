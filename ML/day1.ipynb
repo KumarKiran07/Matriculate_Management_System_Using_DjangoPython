import pandas as pd
housing = pd.read_csv("house.csv")
housing.head()